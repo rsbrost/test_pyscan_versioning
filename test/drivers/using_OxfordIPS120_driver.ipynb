{
 "cells": [
  {
   "cell_type": "code",
   "execution_count": 1,
   "id": "114e61cb-2ac0-4a53-bf0e-c7888e554e2d",
   "metadata": {},
   "outputs": [
    {
     "name": "stdout",
     "output_type": "stream",
     "text": [
      "Could not load Keysight SD1\n",
      "Could not load Keysight SD1\n",
      "pylablib not found, AttocubeANC350 not loaded\n",
      "Basler Camera software not found, BaserCamera not loaded\n",
      "Helios Camera not installed\n",
      "msl not installed, Thorlabs BSC203 driver not loaded\n",
      "seabreeze module not found, Ocean Optics not imported\n",
      "Failed to load spinapi library.\n",
      "spinapi is not installed, PulseBlaster driver not loaded.\n",
      "Thorlabs Kinesis not found, ThorlabsBSC203 not loaded\n",
      "Thorlabs Kinesis not found, ThorlabsBPC303 not loaded\n",
      "Thorlabs Kinesis not found, ThorlabsMFF101 not loaded\n"
     ]
    }
   ],
   "source": [
    "import os\n",
    "import sys\n",
    "import time\n",
    "import threading\n",
    "from pathlib import Path\n",
    "from time import sleep\n",
    "import pyscan as ps\n",
    "import ipywidgets as widgets\n",
    "from IPython.display import display"
   ]
  },
  {
   "cell_type": "code",
   "execution_count": 2,
   "id": "8d0c2aef-d8d9-4d6a-aaa4-22aeb849691f",
   "metadata": {},
   "outputs": [],
   "source": [
    "instruments = ps.ItemAttribute()\n",
    "instruments.ips120 = ps.new_instrument(gpib_address=25)\n",
    "devices = ps.ItemAttribute()\n",
    "devices.magnet = ps.OxfordIPS120(instruments.ips120)"
   ]
  },
  {
   "cell_type": "code",
   "execution_count": 3,
   "id": "a888bba8-a6aa-44cd-938c-28433e4a52a0",
   "metadata": {},
   "outputs": [
    {
     "data": {
      "text/plain": [
       "Heater off\n",
       "At rest\n",
       "activity: Clamped\n",
       "get_field() = 0.0\n",
       "field_set_point = 0.05\n",
       "field_rate = 0.1"
      ]
     },
     "execution_count": 3,
     "metadata": {},
     "output_type": "execute_result"
    }
   ],
   "source": [
    "devices.magnet"
   ]
  },
  {
   "cell_type": "markdown",
   "id": "06ae8d88-9194-432f-9aa9-192556f1bea4",
   "metadata": {},
   "source": [
    "## Issues with original magnet driver in pyscan"
   ]
  },
  {
   "cell_type": "code",
   "execution_count": 4,
   "id": "cf6b33a2-ccd5-4898-8410-9cd94efaba10",
   "metadata": {},
   "outputs": [],
   "source": [
    "# fix clamp()\n",
    "# need to ensure that the field is at zero before clamping"
   ]
  },
  {
   "cell_type": "markdown",
   "id": "d478caef-dd58-4011-98a5-c98e0689658c",
   "metadata": {},
   "source": [
    "## Fix magnet operation by adding a new interface (keeping legacy commands for compatibility)"
   ]
  },
  {
   "cell_type": "code",
   "execution_count": 8,
   "id": "a949ee96-2c31-45a4-ad21-618d460c7371",
   "metadata": {},
   "outputs": [
    {
     "data": {
      "text/plain": [
       "Heater off\n",
       "At rest\n",
       "activity: Clamped\n",
       "get_field() = 0.0\n",
       "field_set_point = 0.05\n",
       "field_rate = 0.1"
      ]
     },
     "execution_count": 8,
     "metadata": {},
     "output_type": "execute_result"
    }
   ],
   "source": [
    "devices.magnet"
   ]
  },
  {
   "cell_type": "code",
   "execution_count": 6,
   "id": "9c303dc9-a9d9-43bf-bbd8-9ec87380c857",
   "metadata": {},
   "outputs": [],
   "source": [
    "devices.magnet.local() # keyword: locked=False"
   ]
  },
  {
   "cell_type": "code",
   "execution_count": 7,
   "id": "a935a8bb-2f23-45bc-a598-11e61ffca0d2",
   "metadata": {},
   "outputs": [],
   "source": [
    "devices.magnet.remote() # keyword: locked=False"
   ]
  },
  {
   "cell_type": "code",
   "execution_count": 9,
   "id": "14712428-c581-478c-b572-b610c7bdbbe3",
   "metadata": {
    "scrolled": true
   },
   "outputs": [],
   "source": [
    "devices.magnet.heater('off')"
   ]
  },
  {
   "cell_type": "code",
   "execution_count": 34,
   "id": "372d5931-36ca-4c8a-8a15-c7d0baa01164",
   "metadata": {},
   "outputs": [
    {
     "name": "stdout",
     "output_type": "stream",
     "text": [
      "\n",
      "system status (operation) : Normal (X1=0)\n",
      "system status (voltage) : Normal (X2=0)\n",
      "Activity ; Clamped (A=4)\n",
      "LOC/REM status ; Remote & Unlocked (C=3)\n",
      "Heater ; Heater Fault (H=5)\n",
      "Mode (rate) ; Amps, Immediate, Fast (M1=0)\n",
      "Mode (sweep) ; At Rest (M2=0)\n"
     ]
    }
   ],
   "source": [
    "devices.magnet.heater('on')\n",
    "status = devices.magnet.status()\n",
    "print(status)"
   ]
  },
  {
   "cell_type": "code",
   "execution_count": 35,
   "id": "24a036da-2369-4766-87b7-a40b5e553a27",
   "metadata": {},
   "outputs": [
    {
     "data": {
      "text/plain": [
       "'X00A4C3H5M00P04'"
      ]
     },
     "execution_count": 35,
     "metadata": {},
     "output_type": "execute_result"
    }
   ],
   "source": [
    "devices.magnet.instrument.query('X')"
   ]
  },
  {
   "cell_type": "code",
   "execution_count": 38,
   "id": "fb8b8eab-84b4-4483-b40b-32ca5810ca57",
   "metadata": {},
   "outputs": [
    {
     "name": "stdout",
     "output_type": "stream",
     "text": [
      "\n",
      "system status (operation) : Normal (X1=0)\n",
      "system status (voltage) : Normal (X2=0)\n",
      "Activity ; Clamped (A=4)\n",
      "LOC/REM status ; Remote & Unlocked (C=3)\n",
      "Heater ; Off Magnet at Zero (H=0)\n",
      "Mode (rate) ; Amps, Immediate, Fast (M1=0)\n",
      "Mode (sweep) ; At Rest (M2=0)\n"
     ]
    }
   ],
   "source": [
    "status = devices.magnet.status()\n",
    "if status.H == 5:\n",
    "    print(\"switch heater fault\")\n",
    "    _ = devices.magnet.instrument.query(\"H0\")\n",
    "    sleep(0.5)\n",
    "    status = devices.magnet.status()\n",
    "print(status)"
   ]
  },
  {
   "cell_type": "code",
   "execution_count": 37,
   "id": "52724b6c-714b-4375-9a10-512e8e038a8d",
   "metadata": {
    "jupyter": {
     "source_hidden": true
    }
   },
   "outputs": [
    {
     "data": {
      "text/plain": [
       "'X00A4C3H0M00P04'"
      ]
     },
     "execution_count": 37,
     "metadata": {},
     "output_type": "execute_result"
    }
   ],
   "source": [
    "devices.magnet.instrument.read()"
   ]
  },
  {
   "cell_type": "code",
   "execution_count": 10,
   "id": "6634fdf8-d0d8-4b95-9b11-cf26bf3e05ea",
   "metadata": {},
   "outputs": [
    {
     "data": {
      "text/plain": [
       "0.0"
      ]
     },
     "execution_count": 10,
     "metadata": {},
     "output_type": "execute_result"
    }
   ],
   "source": [
    "devices.magnet.get_field()"
   ]
  },
  {
   "cell_type": "code",
   "execution_count": 11,
   "id": "28cda43b-8a02-4050-9318-cd7cd7c71c03",
   "metadata": {},
   "outputs": [
    {
     "data": {
      "text/plain": [
       "0.0"
      ]
     },
     "execution_count": 11,
     "metadata": {},
     "output_type": "execute_result"
    }
   ],
   "source": [
    "devices.magnet.get_persistent_field() # remembers the persistent field when the heater was last turned off"
   ]
  },
  {
   "cell_type": "code",
   "execution_count": 12,
   "id": "5e0bd57a-56e7-432f-9b27-2c63c0dccdf3",
   "metadata": {},
   "outputs": [
    {
     "name": "stdout",
     "output_type": "stream",
     "text": [
      "0.05\n",
      "0.1\n"
     ]
    }
   ],
   "source": [
    "print(devices.magnet.field_set_point)\n",
    "print(devices.magnet.field_rate)"
   ]
  },
  {
   "cell_type": "code",
   "execution_count": 13,
   "id": "7f5e22a9-cb14-4c48-be5a-f9e3ee0d9ee1",
   "metadata": {},
   "outputs": [],
   "source": [
    "devices.magnet.to_set_point()"
   ]
  },
  {
   "cell_type": "code",
   "execution_count": 14,
   "id": "e3c46264-dcef-44e9-a36f-44e61a9abe8c",
   "metadata": {},
   "outputs": [],
   "source": [
    "devices.magnet.hold()"
   ]
  },
  {
   "cell_type": "code",
   "execution_count": 15,
   "id": "f5d09c36-fbf5-4b5b-a88f-d44c13e27cd3",
   "metadata": {},
   "outputs": [],
   "source": [
    "devices.magnet.to_zero()"
   ]
  },
  {
   "cell_type": "code",
   "execution_count": 14,
   "id": "8d9547e5-422c-4d3b-bf9c-cb2478305bda",
   "metadata": {},
   "outputs": [
    {
     "name": "stdout",
     "output_type": "stream",
     "text": [
      "\n",
      "system status (operation) : Normal (X1=0)\n",
      "system status (voltage) : Normal (X2=0)\n",
      "Activity ; Clamped (A=4)\n",
      "LOC/REM status ; Remote & Unlocked (C=3)\n",
      "Heater ; Heater Fault (H=5)\n",
      "Mode (rate) ; Amps, Immediate, Fast (M1=0)\n",
      "Mode (sweep) ; At Rest (M2=0)\n"
     ]
    }
   ],
   "source": [
    "status = devices.magnet.status()\n",
    "print(status)"
   ]
  },
  {
   "cell_type": "code",
   "execution_count": 17,
   "id": "354e5ced-6408-465c-9332-d65bd2a46662",
   "metadata": {},
   "outputs": [
    {
     "name": "stdout",
     "output_type": "stream",
     "text": [
      "remote: True\n",
      "heater: True\n",
      "sweeping: False\n",
      "persistent: False\n"
     ]
    }
   ],
   "source": [
    "print(f\"remote: {devices.magnet.remote_status()}\")\n",
    "print(f\"heater: {devices.magnet.heater_status()}\")\n",
    "print(f\"sweeping: {devices.magnet.sweeping_status()}\")\n",
    "print(f\"persistent: {devices.magnet.persistent_status()}\")"
   ]
  },
  {
   "cell_type": "markdown",
   "id": "ccc48384-25e0-42b3-b183-95db4781ee32",
   "metadata": {},
   "source": [
    "## GUI for Oxford IPS120"
   ]
  },
  {
   "cell_type": "code",
   "execution_count": 18,
   "id": "ef553b6a-10f9-4721-baec-504ab9e44300",
   "metadata": {},
   "outputs": [],
   "source": [
    "heater_button = widgets.ToggleButton(description='heater')\n",
    "field_float = widgets.FloatText(description='field')\n",
    "activity_buttons = widgets.ToggleButtons(description='activity', options=['hold', 'to set point', 'to zero'])\n",
    "field_set_point_float = widgets.FloatText(description='set point')\n",
    "field_rate_float = widgets.FloatText(description='rate')\n",
    "persistent_button = widgets.ToggleButton(description='persistent', value=False, disabled=True)\n",
    "persistent_field_float = widgets.FloatText(description='persistent field', value=0.0, disabled=True)\n",
    "layout = widgets.VBox([\n",
    "    widgets.HBox([field_set_point_float, field_rate_float]), \n",
    "        activity_buttons,\n",
    "        heater_button, \n",
    "        field_float,\n",
    "        widgets.HBox([persistent_button, persistent_field_float]),\n",
    "        ])\n",
    "\n",
    "# relying on a global variable, need to address this\n",
    "widget_dict = {}\n",
    "widget_dict['heater_button'] = heater_button\n",
    "widget_dict['activity_buttons'] = activity_buttons\n",
    "widget_dict['field_float'] = field_float\n",
    "widget_dict['field_rate_float'] = field_rate_float\n",
    "widget_dict['field_set_point_float'] = field_set_point_float\n",
    "widget_dict['persistent_button'] = persistent_button\n",
    "widget_dict['persistent_field_float'] = persistent_field_float\n",
    "start = time.time()\n",
    "def update(widget_dict, magnet, event):\n",
    "    '''\n",
    "    Update the magnet on a schedule\n",
    "    '''\n",
    "    slow_update = 2\n",
    "    fast_update = 0.5\n",
    "    update_time = 0.1\n",
    "    t = threading.current_thread()\n",
    "    slow_time = time.time()-slow_update # do a slow update right away\n",
    "    fast_time = time.time()-fast_update # do a fast update right away\n",
    "    while getattr(t, \"do_run\", True):\n",
    "        current_time = time.time()\n",
    "        if (current_time - slow_time) > slow_update:\n",
    "            slow_time = time.time()\n",
    "            # slow updates\n",
    "            event.wait()\n",
    "            status = magnet.status()\n",
    "            if status.H == 0:\n",
    "                widget_dict['heater_button'].value = False\n",
    "                # enter bad reverse persistent mode\n",
    "                if (widget_dict['field_float'].value != 0) and not widget_dict['heater_button'].disabled:\n",
    "                    # must return to 0 before the heater can be turned on\n",
    "                    widget_dict['heater_button'].disabled = True\n",
    "                    widget_dict['persistent_button'].value = True\n",
    "                    widget_dict['persistent_button'].button_style = 'danger'\n",
    "                    widget_dict['persistent_button'].disabled = False\n",
    "                    widget_dict['persistent_field_float'].value = 0\n",
    "                    widget_dict['persistent_field_float'].disabled = False\n",
    "                # exit bad reverse persisent mode\n",
    "                if widget_dict['field_float'].value == 0 and  widget_dict['heater_button'].disabled:\n",
    "                    widget_dict['heater_button'].disabled = False\n",
    "                    widget_dict['persistent_button'].value = False\n",
    "                    widget_dict['persistent_button'].button_style = ''\n",
    "                    widget_dict['persistent_button'].disabled = True\n",
    "                    widget_dict['persistent_field_float'].value = 0\n",
    "                    widget_dict['persistent_field_float'].disabled = True\n",
    "            if status.H == 1:\n",
    "                widget_dict['heater_button'].value = True\n",
    "                # exit persistent\n",
    "                if not widget_dict['persistent_button'].disabled:\n",
    "                    widget_dict['persistent_button'].value = False\n",
    "                    widget_dict['persistent_button'].disabled = True\n",
    "                    widget_dict['persistent_button'].button_style = ''\n",
    "                    widget_dict['persistent_field_float'].value = 0\n",
    "                    widget_dict['persistent_field_float'].disabled = True\n",
    "                    event.wait()\n",
    "                    magnet.hold()\n",
    "                    widget_dict['field_set_point_float'].disabled = False\n",
    "                    # maybe GUI starts in persistent mode\n",
    "                    try:\n",
    "                        widget_dict['field_set_point_float'].value = nonpersistent_set_point\n",
    "                    except NameError:\n",
    "                        widget_dict['field_set_point_float'].value = magnet.get_field()\n",
    "                    \n",
    "            if status.H == 2:\n",
    "                # only allow the heater to turn on when the field and the persistent field are the same\n",
    "                event.wait()\n",
    "                if (widget_dict['field_float'].value != magnet.get_persistent_field()) and not widget_dict['heater_button'].disabled:\n",
    "                    widget_dict['heater_button'].disabled = True\n",
    "                event.wait()\n",
    "                if (widget_dict['field_float'].value == magnet.get_persistent_field()) and widget_dict['heater_button'].disabled:\n",
    "                    widget_dict['heater_button'].disabled = False\n",
    "                # enter_persistent\n",
    "                if not widget_dict['field_set_point_float'].disabled:\n",
    "                    widget_dict['persistent_button'].value = True\n",
    "                    widget_dict['persistent_button'].disabled = False\n",
    "                    widget_dict['persistent_button'].button_style = 'warning'\n",
    "                    event.wait()\n",
    "                    widget_dict['persistent_field_float'].value = magnet.get_persistent_field()\n",
    "                    widget_dict['persistent_field_float'].disabled = False\n",
    "                    event.wait()\n",
    "                    nonpersistent_set_point = magnet.field_set_point\n",
    "                    event.wait()\n",
    "                    magnet.field_set_point = magnet.get_persistent_field()\n",
    "                    widget_dict['field_set_point_float'].disabled = True\n",
    "                \n",
    "            if status.A == 0:\n",
    "                # hold\n",
    "                widget_dict['activity_buttons'].value = \"hold\"\n",
    "            elif status.A == 1:\n",
    "                widget_dict['activity_buttons'].value = \"to set point\"\n",
    "            elif status.A == 2:\n",
    "                widget_dict['activity_buttons'].value = \"to zero\"\n",
    "            event.wait()\n",
    "            widget_dict['field_set_point_float'].value = magnet.field_set_point\n",
    "            event.wait()\n",
    "            widget_dict['field_rate_float'].value = magnet.field_rate\n",
    "        if (current_time-fast_time) > fast_update:\n",
    "            fast_time = time.time()\n",
    "            event.wait()\n",
    "            widget_dict['field_float'].value = magnet.get_field()\n",
    "        sleep(update_time)\n",
    "    print(\"stopping update\")\n",
    "    \n",
    "# @observe(\"heater_button\")\n",
    "def heater_button_clicked(change):\n",
    "    # requires global devices.magnet\n",
    "    event.clear()\n",
    "    if change['new']:\n",
    "        devices.magnet.heater('on')\n",
    "    else:\n",
    "        devices.magnet.heater('off')\n",
    "    event.set()\n",
    "    \n",
    "def activity_buttons_clicked(change):\n",
    "    event.clear()\n",
    "    match change['new']:\n",
    "        case \"to set point\":\n",
    "            devices.magnet.to_set_point()\n",
    "        case \"to zero\":\n",
    "            devices.magnet.to_zero()\n",
    "        case \"hold\":\n",
    "            devices.magnet.hold()\n",
    "    event.set()\n",
    "\n",
    "def field_set_point_float_changed(change):\n",
    "    event.clear() # pause the thread\n",
    "    devices.magnet.field_set_point = change['new']\n",
    "    event.set() # restart the thread\n",
    "\n",
    "def field_rate_float_changed(change):\n",
    "    event.clear() # pause the thread\n",
    "    devices.magnet.field_rate = change['new']\n",
    "    event.set() # restart the thread\n",
    "        \n",
    "#heater_button.on_trait_change(heater_button_clicked)\n",
    "heater_button.observe(heater_button_clicked, names=\"value\")\n",
    "activity_buttons.observe(activity_buttons_clicked, names=\"value\")\n",
    "field_set_point_float.observe(field_set_point_float_changed, names=\"value\")\n",
    "field_rate_float.observe(field_rate_float_changed, names=\"value\")"
   ]
  },
  {
   "cell_type": "code",
   "execution_count": 19,
   "id": "09af2347-ab72-4f01-a4b1-7f2e3ae01b49",
   "metadata": {},
   "outputs": [
    {
     "data": {
      "application/vnd.jupyter.widget-view+json": {
       "model_id": "13b63bb93a1f4c1086b7aa09985b74ce",
       "version_major": 2,
       "version_minor": 0
      },
      "text/plain": [
       "VBox(children=(HBox(children=(FloatText(value=0.0, description='set point'), FloatText(value=0.0, description=…"
      ]
     },
     "metadata": {},
     "output_type": "display_data"
    }
   ],
   "source": [
    "event = threading.Event()\n",
    "event.set()\n",
    "thread = threading.Thread(target=update, args=(widget_dict, devices.magnet, event))\n",
    "display(layout)\n",
    "thread.start()"
   ]
  },
  {
   "cell_type": "code",
   "execution_count": 20,
   "id": "6fea831d-2f8e-4c65-8ec6-e9cf4e643bbf",
   "metadata": {},
   "outputs": [
    {
     "data": {
      "text/plain": [
       "True"
      ]
     },
     "execution_count": 20,
     "metadata": {},
     "output_type": "execute_result"
    }
   ],
   "source": [
    "thread.is_alive()"
   ]
  },
  {
   "cell_type": "code",
   "execution_count": 21,
   "id": "b38ef6b0-67b3-4f3b-b507-5fe0d8bb6234",
   "metadata": {},
   "outputs": [
    {
     "name": "stdout",
     "output_type": "stream",
     "text": [
      "stopping update\n"
     ]
    }
   ],
   "source": [
    "thread.do_run = False"
   ]
  }
 ],
 "metadata": {
  "kernelspec": {
   "display_name": "Python 3 (ipykernel)",
   "language": "python",
   "name": "python3"
  },
  "language_info": {
   "codemirror_mode": {
    "name": "ipython",
    "version": 3
   },
   "file_extension": ".py",
   "mimetype": "text/x-python",
   "name": "python",
   "nbconvert_exporter": "python",
   "pygments_lexer": "ipython3",
   "version": "3.11.7"
  }
 },
 "nbformat": 4,
 "nbformat_minor": 5
}
